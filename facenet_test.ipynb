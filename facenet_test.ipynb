{
  "nbformat": 4,
  "nbformat_minor": 0,
  "metadata": {
    "colab": {
      "name": "facenet_test.ipynb",
      "provenance": [],
      "collapsed_sections": [],
      "authorship_tag": "ABX9TyO1P3lC6YNSV9YJy66yJMux",
      "include_colab_link": true
    },
    "kernelspec": {
      "name": "python3",
      "display_name": "Python 3"
    },
    "language_info": {
      "name": "python"
    }
  },
  "cells": [
    {
      "cell_type": "markdown",
      "metadata": {
        "id": "view-in-github",
        "colab_type": "text"
      },
      "source": [
        "<a href=\"https://colab.research.google.com/github/jacr2006/keras/blob/master/facenet_test.ipynb\" target=\"_parent\"><img src=\"https://colab.research.google.com/assets/colab-badge.svg\" alt=\"Open In Colab\"/></a>"
      ]
    },
    {
      "cell_type": "markdown",
      "metadata": {
        "id": "4rkuo7XjDeQO"
      },
      "source": [
        "## Face Verification using FACENET pretrained model and K-means clustering"
      ]
    },
    {
      "cell_type": "code",
      "metadata": {
        "id": "8cW32zjXqMoH"
      },
      "source": [
        "import tensorflow as tf\n",
        "from keras import backend as K\n",
        "import matplotlib.pyplot as plt\n",
        "import matplotlib.image as mpimg\n",
        "from matplotlib.patches import Rectangle\n",
        "import cv2\n",
        "from google.colab.patches import cv2_imshow\n",
        "import numpy as np\n",
        "import os\n",
        "from sklearn.cluster import KMeans\n",
        "from scipy import spatial"
      ],
      "execution_count": null,
      "outputs": []
    },
    {
      "cell_type": "code",
      "metadata": {
        "colab": {
          "base_uri": "https://localhost:8080/"
        },
        "id": "RIyJi08Pun_Z",
        "outputId": "9291fac2-3fc4-4e23-8d86-64b298844039"
      },
      "source": [
        "from google.colab import drive\n",
        "drive.mount('/content/drive')"
      ],
      "execution_count": null,
      "outputs": [
        {
          "output_type": "stream",
          "text": [
            "Mounted at /content/drive\n"
          ],
          "name": "stdout"
        }
      ]
    },
    {
      "cell_type": "code",
      "metadata": {
        "id": "kS16IGm9uq2F"
      },
      "source": [
        "PATH_DRIVE = '/content/drive/MyDrive/Colab Notebooks/'"
      ],
      "execution_count": null,
      "outputs": []
    },
    {
      "cell_type": "code",
      "metadata": {
        "colab": {
          "base_uri": "https://localhost:8080/"
        },
        "id": "jrLi_o4jvtXW",
        "outputId": "74b6555c-53b3-46c2-89bb-545c7964c73d"
      },
      "source": [
        "# train dataset\n",
        "images = []\n",
        "\n",
        "files_path = PATH_DRIVE+\"celebrity_faces/train\"\n",
        "_files = os.listdir(files_path)\n",
        "\n",
        "for _classes in _files:\n",
        "  _images = os.listdir(files_path+'/'+_classes)\n",
        "  print(_classes)\n",
        "  for _f in _images:\n",
        "    _path = files_path+'/'+_classes+'/'+_f\n",
        "    images.append(_path)\n",
        "    print(_path)"
      ],
      "execution_count": null,
      "outputs": [
        {
          "output_type": "stream",
          "text": [
            "ben_afflek\n",
            "/content/drive/MyDrive/Colab Notebooks/celebrity_faces/train/ben_afflek/httpimagesfandangocomrImageRendererredesignstaticimgnoxportraitjpgpcpcpcimagesmasterrepositoryperformerimagespjpg.jpg\n",
            "/content/drive/MyDrive/Colab Notebooks/celebrity_faces/train/ben_afflek/httpsuploadwikimediaorgwikipediacommonsthumbddBenAffleckbyGageSkidmorejpgpxBenAffleckbyGageSkidmorejpg.jpg\n",
            "/content/drive/MyDrive/Colab Notebooks/celebrity_faces/train/ben_afflek/httpssmediacacheakpinimgcomxdfdfadcfeabjpg.jpg\n",
            "/content/drive/MyDrive/Colab Notebooks/celebrity_faces/train/ben_afflek/httpssmediacacheakpinimgcomxeebdfdbaaajpg.jpg\n",
            "/content/drive/MyDrive/Colab Notebooks/celebrity_faces/train/ben_afflek/httpcsvkmeuaeccjpg.jpg\n",
            "/content/drive/MyDrive/Colab Notebooks/celebrity_faces/train/ben_afflek/httpssmediacacheakpinimgcomxdbbdbbbececacdecdcdfjpg.jpg\n",
            "/content/drive/MyDrive/Colab Notebooks/celebrity_faces/train/ben_afflek/httpwwwallposterscomimagesPostersPFjpg.jpg\n",
            "/content/drive/MyDrive/Colab Notebooks/celebrity_faces/train/ben_afflek/httptrwebimgacstanetcxbdddmediasnmediajpg.jpg\n",
            "/content/drive/MyDrive/Colab Notebooks/celebrity_faces/train/ben_afflek/httpssmediacacheakpinimgcomxeeedcacddeccccacfjpg.jpg\n",
            "/content/drive/MyDrive/Colab Notebooks/celebrity_faces/train/ben_afflek/httpssmediacacheakpinimgcomxedaedabcbefbcbabbjpg.jpg\n",
            "/content/drive/MyDrive/Colab Notebooks/celebrity_faces/train/ben_afflek/httpwwwfilmscoopitcgibinattoriBENAFFLECKBENAFFLECKjpg.jpg\n",
            "/content/drive/MyDrive/Colab Notebooks/celebrity_faces/train/ben_afflek/httpwwwhillsindcomstorebenjpg.jpg\n",
            "/content/drive/MyDrive/Colab Notebooks/celebrity_faces/train/ben_afflek/httpwwwrumenewscomwpcontentuploadsbenafflekxpng.jpg\n",
            "/content/drive/MyDrive/Colab Notebooks/celebrity_faces/train/ben_afflek/httpwwwaceshowbizcomimagesphotobenaffleckjpg.jpg\n",
            "madonna\n",
            "/content/drive/MyDrive/Colab Notebooks/celebrity_faces/train/madonna/httpsuploadwikimediaorgwikipediacommonsthumbaaMadonnaatthepremiereofIAmBecauseWeArejpgpxMadonnaatthepremiereofIAmBecauseWeArejpg.jpg\n",
            "/content/drive/MyDrive/Colab Notebooks/celebrity_faces/train/madonna/httpssvagalumecommadonnaimagesmadonnajpg.jpg\n",
            "/content/drive/MyDrive/Colab Notebooks/celebrity_faces/train/madonna/httpimagegaladevcmseamadonnaprivatdetektivsquaretopsquarejpgv.jpg\n",
            "/content/drive/MyDrive/Colab Notebooks/celebrity_faces/train/madonna/httpssmediacacheakpinimgcomxdcfdcfedfaedadjpg.jpg\n",
            "/content/drive/MyDrive/Colab Notebooks/celebrity_faces/train/madonna/httpwwwbeastiemaniacomwhoismadonnamadonnajpg.jpg\n",
            "/content/drive/MyDrive/Colab Notebooks/celebrity_faces/train/madonna/httpssmediacacheakpinimgcomxafafedebcbjpg.jpg\n",
            "/content/drive/MyDrive/Colab Notebooks/celebrity_faces/train/madonna/httpiamediaimdbcomimagesMMVBMTANDQNTAxNDVeQTJeQWpwZBbWUMDIMjQOTYVUXCRALjpg.jpg\n",
            "/content/drive/MyDrive/Colab Notebooks/celebrity_faces/train/madonna/httpwwwetonlinecomphotomadonnabdayjpg.jpg\n",
            "/content/drive/MyDrive/Colab Notebooks/celebrity_faces/train/madonna/httpuploadwikimediaorgwikipediacommonsthumbaMadonnaRotterdamjpgpxMadonnaRotterdamjpg.jpg\n",
            "/content/drive/MyDrive/Colab Notebooks/celebrity_faces/train/madonna/httpssmediacacheakpinimgcomxaaeaaeecccaedfebdbjpg.jpg\n",
            "/content/drive/MyDrive/Colab Notebooks/celebrity_faces/train/madonna/httpsuploadwikimediaorgwikipediacommonsMadonnathAnnualGoldenGlobesAwardscroppedjpg.jpg\n",
            "/content/drive/MyDrive/Colab Notebooks/celebrity_faces/train/madonna/httpssmediacacheakpinimgcomxffeabacaaejpg.jpg\n",
            "/content/drive/MyDrive/Colab Notebooks/celebrity_faces/train/madonna/httpmediavoguecomrwblondesdarkbrowsmadonnajpg.jpg\n",
            "/content/drive/MyDrive/Colab Notebooks/celebrity_faces/train/madonna/httpimgclosermagfrvarclosermagstorageimagesactupeoplebiodestarsmadonnamadonnafreFRmadonnaexactxljpg.jpg\n",
            "/content/drive/MyDrive/Colab Notebooks/celebrity_faces/train/madonna/httpssmediacacheakpinimgcomxffecfafddjpg.jpg\n",
            "/content/drive/MyDrive/Colab Notebooks/celebrity_faces/train/madonna/httpresizeparismatchladmediafrrffffffcentermiddleimgvarnewsstorageimagesparismatchpeopleazmadonnafreFRMadonnajpg.jpg\n",
            "/content/drive/MyDrive/Colab Notebooks/celebrity_faces/train/madonna/httpssmediacacheakpinimgcomxfeebfdccajpg.jpg\n",
            "/content/drive/MyDrive/Colab Notebooks/celebrity_faces/train/madonna/httpwwwblackdogfilmscomwordpresswpcontentuploadsmadonnacelebrationxjpg.jpg\n",
            "/content/drive/MyDrive/Colab Notebooks/celebrity_faces/train/madonna/httpssmediacacheakpinimgcomxffabffabbbcfbceaedjpg.jpg\n",
            "mindy_kaling\n",
            "/content/drive/MyDrive/Colab Notebooks/celebrity_faces/train/mindy_kaling/httpsamazonawscomkidzworldphotoimagesbccdddaaadgallerymindykalinggalleryjpg.jpg\n",
            "/content/drive/MyDrive/Colab Notebooks/celebrity_faces/train/mindy_kaling/httpwwwimpropercomimagesuploadsusercontentimagesSoroffMindyjpg.jpg\n",
            "/content/drive/MyDrive/Colab Notebooks/celebrity_faces/train/mindy_kaling/httpgonetworthcomwpcontentuploadsthumbsjpg.jpg\n",
            "/content/drive/MyDrive/Colab Notebooks/celebrity_faces/train/mindy_kaling/httppixelnymagcomimgsfashiondailymindykalingwhjpg.jpg\n",
            "/content/drive/MyDrive/Colab Notebooks/celebrity_faces/train/mindy_kaling/httpwwwbooksforbetterlivingcomwpcontentuploadsMindyKalingAuthorPhotojpg.jpg\n",
            "/content/drive/MyDrive/Colab Notebooks/celebrity_faces/train/mindy_kaling/httpssmediacacheakpinimgcomxafaffbbbbdbcbdddjpg.jpg\n",
            "/content/drive/MyDrive/Colab Notebooks/celebrity_faces/train/mindy_kaling/httpssmediacacheakpinimgcomxbabafeacbaaacabffjpg.jpg\n",
            "/content/drive/MyDrive/Colab Notebooks/celebrity_faces/train/mindy_kaling/httpwwweonlinecomeolimagesEntireSiteregKalingCancermhjpg.jpg\n",
            "/content/drive/MyDrive/Colab Notebooks/celebrity_faces/train/mindy_kaling/httpimagesnymagcomimagesdailymindykalingxjpg.jpg\n",
            "/content/drive/MyDrive/Colab Notebooks/celebrity_faces/train/mindy_kaling/httpmediaonsugarcomfilesbabaaaaaMindyInterviewxxxlargejpg.jpg\n",
            "/content/drive/MyDrive/Colab Notebooks/celebrity_faces/train/mindy_kaling/httpgraphicsnytimescomimagesmagazinekalingkalingarticleInlinejpg.jpg\n",
            "/content/drive/MyDrive/Colab Notebooks/celebrity_faces/train/mindy_kaling/httpsimgbuzzfeedcombuzzfeedstaticstaticcampaignimageswebdradorableetsyitemsallmindykalingfansneedbigjpg.jpg\n",
            "/content/drive/MyDrive/Colab Notebooks/celebrity_faces/train/mindy_kaling/httpsimagesnasslimagesamazoncomimagesIAQdwKvFILUXjpg.jpg\n",
            "/content/drive/MyDrive/Colab Notebooks/celebrity_faces/train/mindy_kaling/httpssmediacacheakpinimgcomxbbfcbdedfbfdbjpg.jpg\n",
            "/content/drive/MyDrive/Colab Notebooks/celebrity_faces/train/mindy_kaling/httpsuploadwikimediaorgwikipediacommonsthumbMindyBKalingBPaleyFestBNewBYorkBBMindyBIqZgUWvbljpgpxMindyBKalingBPaleyFestBNewBYorkBBMindyBIqZgUWvbljpg.jpg\n",
            "/content/drive/MyDrive/Colab Notebooks/celebrity_faces/train/mindy_kaling/httpssmediacacheakpinimgcomxcccccddbbfedabjpg.jpg\n",
            "/content/drive/MyDrive/Colab Notebooks/celebrity_faces/train/mindy_kaling/httpwwwpictureszimbiocomfpMindyKalingfBgaONVFDFmjpg.jpg\n",
            "/content/drive/MyDrive/Colab Notebooks/celebrity_faces/train/mindy_kaling/httpssmediacacheakpinimgcomxeedccadejpg.jpg\n",
            "/content/drive/MyDrive/Colab Notebooks/celebrity_faces/train/mindy_kaling/httpssmediacacheakpinimgcomxccccdabeaadjpg.jpg\n",
            "/content/drive/MyDrive/Colab Notebooks/celebrity_faces/train/mindy_kaling/httpssmediacacheakpinimgcomxededbebccdajpg.jpg\n",
            "/content/drive/MyDrive/Colab Notebooks/celebrity_faces/train/mindy_kaling/httpwwwpictureszimbiocomgiMindyKalingLkvEhTwDeJmjpg.jpg\n",
            "/content/drive/MyDrive/Colab Notebooks/celebrity_faces/train/mindy_kaling/httpwwwadweekcomfilesimagecachenodeinlinemindykalingprofilehedjpg.jpg\n",
            "elton_john\n",
            "/content/drive/MyDrive/Colab Notebooks/celebrity_faces/train/elton_john/httpssmediacacheakpinimgcomxfecfecaefaadfebejpg.jpg\n",
            "/content/drive/MyDrive/Colab Notebooks/celebrity_faces/train/elton_john/httpsdfrpwlycscloudfrontnetdeltonjohnjpg.jpg\n",
            "/content/drive/MyDrive/Colab Notebooks/celebrity_faces/train/elton_john/httpwwweonlinecomresizewwweonlinecomeolimagesEntireSitersxEltonJohnJRjpg.jpg\n",
            "/content/drive/MyDrive/Colab Notebooks/celebrity_faces/train/elton_john/httpiamediaimdbcomimagesMMVBMTAxNDUMzUwOTdeQTJeQWpwZBbWUMDUOTAyNTIVUXCRALjpg.jpg\n",
            "/content/drive/MyDrive/Colab Notebooks/celebrity_faces/train/elton_john/httpsuploadwikimediaorgwikipediacommonsthumbEltonJohninsjpgpxEltonJohninsjpg.jpg\n",
            "/content/drive/MyDrive/Colab Notebooks/celebrity_faces/train/elton_john/httpsticketmnettmenusdamabbacdaebeafdbbCUSTOMjpg.jpg\n",
            "/content/drive/MyDrive/Colab Notebooks/celebrity_faces/train/elton_john/httpftqncomymusicLxZeltonjohnjpg.jpg\n",
            "/content/drive/MyDrive/Colab Notebooks/celebrity_faces/train/elton_john/httpmediacacheecpinimgcomxffeffbcefjpg.jpg\n",
            "/content/drive/MyDrive/Colab Notebooks/celebrity_faces/train/elton_john/httpssmediacacheakpinimgcomxfefdacfbfdeadajpg.jpg\n",
            "/content/drive/MyDrive/Colab Notebooks/celebrity_faces/train/elton_john/httpspmctvlinefileswordpresscomeltonjohnjpg.jpg\n",
            "/content/drive/MyDrive/Colab Notebooks/celebrity_faces/train/elton_john/httpwwwlautdeEltonJohneltonjohnjpg.jpg\n",
            "/content/drive/MyDrive/Colab Notebooks/celebrity_faces/train/elton_john/httpwwwjohnpauljonesarenacomeventimagesEltonCalendarVjpg.jpg\n",
            "/content/drive/MyDrive/Colab Notebooks/celebrity_faces/train/elton_john/httpwwwdeadlinecomvimgnetwpcontentuploadseltonjpg.jpg\n",
            "/content/drive/MyDrive/Colab Notebooks/celebrity_faces/train/elton_john/httpimggalpmdstaticnetfithttpAFFwwwEgalaEfrFvarFgalFstorageFimagesFmediaFmultiuploaddufevrierFeltonjohnFfreFRFeltonjohnEjpgxqualityeltonjohnjpg.jpg\n",
            "/content/drive/MyDrive/Colab Notebooks/celebrity_faces/train/elton_john/httpmediapopsugarassetscomfilescbffewltonjpg.jpg\n",
            "/content/drive/MyDrive/Colab Notebooks/celebrity_faces/train/elton_john/httpimagesmtvcomurimgidfiledocrootvhcomsitewideflipbooksimgdailyjpgenlargefalsemattetruematteColorblackquality.jpg\n",
            "/content/drive/MyDrive/Colab Notebooks/celebrity_faces/train/elton_john/httpssmediacacheakpinimgcomxfcfcbaeaeddabbjpg.jpg\n",
            "jerry_seinfeld\n",
            "/content/drive/MyDrive/Colab Notebooks/celebrity_faces/train/jerry_seinfeld/httpstatictherichestimagescomcdncwpcontentuploadsJerrySeinfeldjpg.jpg\n",
            "/content/drive/MyDrive/Colab Notebooks/celebrity_faces/train/jerry_seinfeld/httpswwwticketscomuploadsartistsjerryseinfeldbilletsjpg.jpg\n",
            "/content/drive/MyDrive/Colab Notebooks/celebrity_faces/train/jerry_seinfeld/httpwwwslatecomcontentdamslateblogsbrowbeatseinfeldjpgCROParticlemediumjpg.jpg\n",
            "/content/drive/MyDrive/Colab Notebooks/celebrity_faces/train/jerry_seinfeld/httpwwwwatchidcomsitesdefaultfilesuploadsightingBreitlingwatchJerrySeinfeldjpg.jpg\n",
            "/content/drive/MyDrive/Colab Notebooks/celebrity_faces/train/jerry_seinfeld/httpimagescontactmusiccomnewsimagesjerryseinfeldjpg.jpg\n",
            "/content/drive/MyDrive/Colab Notebooks/celebrity_faces/train/jerry_seinfeld/httpsuploadwikimediaorgwikipediacommonsthumbbJerrySeinfeldjpgpxJerrySeinfeldjpg.jpg\n",
            "/content/drive/MyDrive/Colab Notebooks/celebrity_faces/train/jerry_seinfeld/httpikinjaimgcomgawkermediaimageuploadsWmIuhdsrcedidjpgjpg.jpg\n",
            "/content/drive/MyDrive/Colab Notebooks/celebrity_faces/train/jerry_seinfeld/httpsmedialivenationcomartiststapjpg.jpg\n",
            "/content/drive/MyDrive/Colab Notebooks/celebrity_faces/train/jerry_seinfeld/httpwwwpictureszimbiocomgpJerrySeinfeldJessicaSeinfeldmarriedBczSipMdNMQljpg.jpg\n",
            "/content/drive/MyDrive/Colab Notebooks/celebrity_faces/train/jerry_seinfeld/httppfodcompchannelslegacyprofilejerryseinfeldpodcastjpg.jpg\n",
            "/content/drive/MyDrive/Colab Notebooks/celebrity_faces/train/jerry_seinfeld/httpimgtimeincnetpeopleinewsjerryseinfeldjpg.jpg\n",
            "/content/drive/MyDrive/Colab Notebooks/celebrity_faces/train/jerry_seinfeld/httpgraphicsnytimescomimagessectionmoviesfilmographyWireImagejpg.jpg\n",
            "/content/drive/MyDrive/Colab Notebooks/celebrity_faces/train/jerry_seinfeld/httpmediapopsugarassetscomfilesusersxlargejpg.jpg\n",
            "/content/drive/MyDrive/Colab Notebooks/celebrity_faces/train/jerry_seinfeld/httpwwweonlinecomresizewwweonlinecomeolimagesEntireSitersxjerryseinfeldjulialouisdreyfusjwjpg.jpg\n",
            "/content/drive/MyDrive/Colab Notebooks/celebrity_faces/train/jerry_seinfeld/httpwwwnndbcompeoplejerryseinfeldaujpg.jpg\n",
            "/content/drive/MyDrive/Colab Notebooks/celebrity_faces/train/jerry_seinfeld/httpimagesrottentomatoescomimagesspotlightsnewsjerryseinfeldjpg.jpg\n",
            "/content/drive/MyDrive/Colab Notebooks/celebrity_faces/train/jerry_seinfeld/httpsticketmnettmenusdbimagesajpg.jpg\n",
            "/content/drive/MyDrive/Colab Notebooks/celebrity_faces/train/jerry_seinfeld/httpimgthedrumcomsfspublicnewstmpjerryseinfeldjpg.jpg\n",
            "/content/drive/MyDrive/Colab Notebooks/celebrity_faces/train/jerry_seinfeld/httpsuswestamazonawscomblogsprodmediausuploadsJerrySeinfeldkidsxjpg.jpg\n",
            "/content/drive/MyDrive/Colab Notebooks/celebrity_faces/train/jerry_seinfeld/httpsrobertaccetturacomwpcontentuploadsjerryseinfeldheadshotjpg.jpg\n",
            "/content/drive/MyDrive/Colab Notebooks/celebrity_faces/train/jerry_seinfeld/httpwwwpsychiatrictimescomsitesdefaultfilesimagesmediaPTMofficSeinfeldjpg.jpg\n"
          ],
          "name": "stdout"
        }
      ]
    },
    {
      "cell_type": "code",
      "metadata": {
        "colab": {
          "base_uri": "https://localhost:8080/"
        },
        "id": "AFhxbNBM4yTN",
        "outputId": "e0627fbe-216b-49ff-892a-ad7e76d096de"
      },
      "source": [
        "# validation dataset\n",
        "images_val = []\n",
        "\n",
        "files_path = PATH_DRIVE+\"celebrity_faces/val\"\n",
        "_files = os.listdir(files_path)\n",
        "\n",
        "for _classes in _files:\n",
        "  _images = os.listdir(files_path+'/'+_classes)\n",
        "  for _f in _images:\n",
        "    _path = files_path+'/'+_classes+'/'+_f\n",
        "    images_val.append(_path)\n",
        "    print(_path)"
      ],
      "execution_count": null,
      "outputs": [
        {
          "output_type": "stream",
          "text": [
            "/content/drive/MyDrive/Colab Notebooks/celebrity_faces/val/elton_john/httpafilesbiographycomimageuploadcfillcssrgbdprgfacehqwMTEODAOTcxNjcMjczMjkzjpg.jpg\n",
            "/content/drive/MyDrive/Colab Notebooks/celebrity_faces/val/elton_john/httpcdncdnjustjaredcomwpcontentuploadsheadlineseltonjohnemmysperformancewatchnowjpg.jpg\n",
            "/content/drive/MyDrive/Colab Notebooks/celebrity_faces/val/elton_john/httpcdncdnjustjaredcomwpcontentuploadsheadlineseltonjohnstillstandingbrooklynnewyearsjpg.jpg\n",
            "/content/drive/MyDrive/Colab Notebooks/celebrity_faces/val/elton_john/httpcdncdnjustjaredcomwpcontentuploadsheadlineseltonjohnsupportsbrucejennerstransitiontowomanjpg.jpg\n",
            "/content/drive/MyDrive/Colab Notebooks/celebrity_faces/val/elton_john/httpcdnlyricssongonlyricsnetwpcontentuploadsEltonJohnDiscographyCDreleasesjpg.jpg\n",
            "/content/drive/MyDrive/Colab Notebooks/celebrity_faces/val/jerry_seinfeld/httpcdncdnjustjaredcomwpcontentuploadsheadlinesjerryseinfeldmakesbrianwilliamsjokejpg.jpg\n",
            "/content/drive/MyDrive/Colab Notebooks/celebrity_faces/val/jerry_seinfeld/httpcdnssninsidercomwpcontentuploadsjerryseinfeldxjpg.jpg\n",
            "/content/drive/MyDrive/Colab Notebooks/celebrity_faces/val/jerry_seinfeld/httpaurorasblogcomwpcontentuploadsjerryseinfeldpublicityshotjpg.jpg\n",
            "/content/drive/MyDrive/Colab Notebooks/celebrity_faces/val/jerry_seinfeld/httpafilesbiographycomimageuploadcfillcssrgbdprgfacehqwMTIwNjANjMMDINzIxNjcjpg.jpg\n",
            "/content/drive/MyDrive/Colab Notebooks/celebrity_faces/val/jerry_seinfeld/httpblognjcomentertainmentimpactcelebritiesmediumjerrybjpg.jpg\n",
            "/content/drive/MyDrive/Colab Notebooks/celebrity_faces/val/ben_afflek/httpcsvkmeuadecafjpg.jpg\n",
            "/content/drive/MyDrive/Colab Notebooks/celebrity_faces/val/ben_afflek/httpabsolumentgratuitfreefrimagesbenaffleckjpg.jpg\n",
            "/content/drive/MyDrive/Colab Notebooks/celebrity_faces/val/ben_afflek/httpcsvkmeuaafdfjpg.jpg\n",
            "/content/drive/MyDrive/Colab Notebooks/celebrity_faces/val/ben_afflek/httpafilesbiographycomimageuploadcfillcssrgbdprgfacehqwMTENDgMDUODczNDcNTcjpg.jpg\n",
            "/content/drive/MyDrive/Colab Notebooks/celebrity_faces/val/ben_afflek/httpbpblogspotcomedLMjVpRGkSWexgsXjkNIAAAAAAAADWgFFtAUqBlhAsjpg.jpg\n",
            "/content/drive/MyDrive/Colab Notebooks/celebrity_faces/val/mindy_kaling/httpdbrbzkkbdsdcloudfrontnetwpcontentuploadsMindyKalingjpg.jpg\n",
            "/content/drive/MyDrive/Colab Notebooks/celebrity_faces/val/mindy_kaling/httpcdncdnjustjaredcomwpcontentuploadsheadlinesmindykalingcomedypilotjpg.jpg\n",
            "/content/drive/MyDrive/Colab Notebooks/celebrity_faces/val/mindy_kaling/httpafilesbiographycomimageuploadcfillcssrgbdprgfacehqwMTIOTcwODQNTUzNjQMzcjpg.jpg\n",
            "/content/drive/MyDrive/Colab Notebooks/celebrity_faces/val/mindy_kaling/httpcdnpastemagazinecomwwwarticlesmindyprojectjpg.jpg\n",
            "/content/drive/MyDrive/Colab Notebooks/celebrity_faces/val/mindy_kaling/httpcdnpastemagazinecomwwwarticlesmindykalingndbookjpg.jpg\n",
            "/content/drive/MyDrive/Colab Notebooks/celebrity_faces/val/madonna/httpcdncdnjustjaredcomwpcontentuploadsheadlinesmadonnatalksparisattackstearsjpg.jpg\n",
            "/content/drive/MyDrive/Colab Notebooks/celebrity_faces/val/madonna/httpassetsrollingstonecomassetsimagesalbumreviewaffaceabdcccaeedjpg.jpg\n",
            "/content/drive/MyDrive/Colab Notebooks/celebrity_faces/val/madonna/httpecximagesamazoncomimagesIfmaBKWLACULSRjpg.jpg\n",
            "/content/drive/MyDrive/Colab Notebooks/celebrity_faces/val/madonna/httpcdnfuncheapcomwpcontentuploadsVOGUEjpg.jpg\n",
            "/content/drive/MyDrive/Colab Notebooks/celebrity_faces/val/madonna/httpassetsrollingstonecomassetsarticlemadonnadavidbowiechangedthecourseofmylifeforeversmallsquarexmadonnabowiejpg.jpg\n"
          ],
          "name": "stdout"
        }
      ]
    },
    {
      "cell_type": "code",
      "metadata": {
        "colab": {
          "base_uri": "https://localhost:8080/"
        },
        "id": "3gCm0M5Up95w",
        "outputId": "b6699d36-f7ac-4ec6-ad47-1cf3dc460710"
      },
      "source": [
        "# pre-trained model (https://github.com/nyoki-mtl/keras-facenet)\n",
        "model = tf.keras.models.load_model(PATH_DRIVE+'facenet_keras.h5')\n",
        "\n",
        "print(model.inputs)\n",
        "print(model.outputs)"
      ],
      "execution_count": null,
      "outputs": [
        {
          "output_type": "stream",
          "text": [
            "WARNING:tensorflow:No training configuration found in the save file, so the model was *not* compiled. Compile it manually.\n",
            "[<KerasTensor: shape=(None, 160, 160, 3) dtype=float32 (created by layer 'input_1')>]\n",
            "[<KerasTensor: shape=(None, 128) dtype=float32 (created by layer 'Bottleneck_BatchNorm')>]\n"
          ],
          "name": "stdout"
        }
      ]
    },
    {
      "cell_type": "code",
      "metadata": {
        "id": "v1_g-wZXvXur"
      },
      "source": [
        "IMG_WIDTH = 160\n",
        "IMG_HEIGHT = 160\n",
        "IMG_CHANNEL = 3\n",
        "\n",
        "def process_image(_filename):\n",
        "  _img=cv2.imread( _filename )\n",
        "  _grayImg = cv2.cvtColor( _img, cv2.COLOR_BGR2GRAY )\n",
        "  \n",
        "  # simple Haarcascade face detector\n",
        "  detector = cv2.CascadeClassifier(PATH_DRIVE+'lbpcascade_frontalface.xml')\n",
        "  _rects = detector.detectMultiScale(_grayImg, scaleFactor=1.05,  minNeighbors=5, minSize=(30, 30), flags=cv2.CASCADE_SCALE_IMAGE)\n",
        "\n",
        "  # only one face/rectangle per picture\n",
        "  for (x, y, w, h) in _rects:\n",
        "    cv2.rectangle(_img, (x, y), (x + w, y + h), (0, 255, 0), 2)\n",
        "\n",
        "  #\n",
        "  _cropImg = _img[y:y+h, x:x+w]\n",
        "  _rezImg  = cv2.resize( _cropImg, ( IMG_WIDTH, IMG_HEIGHT ) )\n",
        "  #cv2_imshow(rezImg)\n",
        "\n",
        "  _rezImg = _rezImg.astype('float32')\n",
        "  mean, std = _rezImg.mean(), _rezImg.std()\n",
        "  _rezImg = (_rezImg - mean) / std\n",
        "\n",
        "  return _cropImg, _rezImg\n"
      ],
      "execution_count": null,
      "outputs": []
    },
    {
      "cell_type": "code",
      "metadata": {
        "colab": {
          "base_uri": "https://localhost:8080/"
        },
        "id": "VCJWcVkF21Ed",
        "outputId": "bf612c5b-85bb-475a-c379-c0f6c15f95f5"
      },
      "source": [
        "# processing train set image \n",
        "img = []\n",
        "for i in range( len(images) ):\n",
        "  try:\n",
        "    img.append( process_image(images[i])[1] )\n",
        "  except:\n",
        "    print(\"Fail in image processing:\"+images[i])\n",
        "\n",
        "img = np.array( img )\n",
        "img.shape"
      ],
      "execution_count": null,
      "outputs": [
        {
          "output_type": "stream",
          "text": [
            "Fail in image processing:/content/drive/MyDrive/Colab Notebooks/celebrity_faces/train/ben_afflek/httpcsvkmeuaeccjpg.jpg\n",
            "Fail in image processing:/content/drive/MyDrive/Colab Notebooks/celebrity_faces/train/ben_afflek/httpssmediacacheakpinimgcomxeeedcacddeccccacfjpg.jpg\n",
            "Fail in image processing:/content/drive/MyDrive/Colab Notebooks/celebrity_faces/train/ben_afflek/httpssmediacacheakpinimgcomxedaedabcbefbcbabbjpg.jpg\n",
            "Fail in image processing:/content/drive/MyDrive/Colab Notebooks/celebrity_faces/train/madonna/httpssmediacacheakpinimgcomxafafedebcbjpg.jpg\n",
            "Fail in image processing:/content/drive/MyDrive/Colab Notebooks/celebrity_faces/train/madonna/httpuploadwikimediaorgwikipediacommonsthumbaMadonnaRotterdamjpgpxMadonnaRotterdamjpg.jpg\n",
            "Fail in image processing:/content/drive/MyDrive/Colab Notebooks/celebrity_faces/train/madonna/httpsuploadwikimediaorgwikipediacommonsMadonnathAnnualGoldenGlobesAwardscroppedjpg.jpg\n",
            "Fail in image processing:/content/drive/MyDrive/Colab Notebooks/celebrity_faces/train/madonna/httpssmediacacheakpinimgcomxffeabacaaejpg.jpg\n",
            "Fail in image processing:/content/drive/MyDrive/Colab Notebooks/celebrity_faces/train/madonna/httpssmediacacheakpinimgcomxfeebfdccajpg.jpg\n",
            "Fail in image processing:/content/drive/MyDrive/Colab Notebooks/celebrity_faces/train/mindy_kaling/httpssmediacacheakpinimgcomxeedccadejpg.jpg\n",
            "Fail in image processing:/content/drive/MyDrive/Colab Notebooks/celebrity_faces/train/mindy_kaling/httpssmediacacheakpinimgcomxccccdabeaadjpg.jpg\n",
            "Fail in image processing:/content/drive/MyDrive/Colab Notebooks/celebrity_faces/train/elton_john/httpssmediacacheakpinimgcomxfecfecaefaadfebejpg.jpg\n",
            "Fail in image processing:/content/drive/MyDrive/Colab Notebooks/celebrity_faces/train/elton_john/httpsdfrpwlycscloudfrontnetdeltonjohnjpg.jpg\n",
            "Fail in image processing:/content/drive/MyDrive/Colab Notebooks/celebrity_faces/train/elton_john/httpssmediacacheakpinimgcomxfefdacfbfdeadajpg.jpg\n",
            "Fail in image processing:/content/drive/MyDrive/Colab Notebooks/celebrity_faces/train/elton_john/httpspmctvlinefileswordpresscomeltonjohnjpg.jpg\n",
            "Fail in image processing:/content/drive/MyDrive/Colab Notebooks/celebrity_faces/train/elton_john/httpwwwlautdeEltonJohneltonjohnjpg.jpg\n",
            "Fail in image processing:/content/drive/MyDrive/Colab Notebooks/celebrity_faces/train/elton_john/httpwwwjohnpauljonesarenacomeventimagesEltonCalendarVjpg.jpg\n",
            "Fail in image processing:/content/drive/MyDrive/Colab Notebooks/celebrity_faces/train/elton_john/httpssmediacacheakpinimgcomxfcfcbaeaeddabbjpg.jpg\n"
          ],
          "name": "stdout"
        },
        {
          "output_type": "execute_result",
          "data": {
            "text/plain": [
              "(76, 160, 160, 3)"
            ]
          },
          "metadata": {
            "tags": []
          },
          "execution_count": 166
        }
      ]
    },
    {
      "cell_type": "code",
      "metadata": {
        "colab": {
          "base_uri": "https://localhost:8080/"
        },
        "id": "GbUZFQmP2q84",
        "outputId": "7f86e325-3aa3-4bdc-cc08-27012b440292"
      },
      "source": [
        "# inference using pre-trained model (wihtout fine tunning)\n",
        "y_train= model.predict(img)\n",
        "y_train.shape"
      ],
      "execution_count": null,
      "outputs": [
        {
          "output_type": "execute_result",
          "data": {
            "text/plain": [
              "(76, 128)"
            ]
          },
          "metadata": {
            "tags": []
          },
          "execution_count": 113
        }
      ]
    },
    {
      "cell_type": "code",
      "metadata": {
        "colab": {
          "base_uri": "https://localhost:8080/"
        },
        "id": "8Y73wHYA4IzO",
        "outputId": "bf6eecb2-66d2-46a2-ebe3-bb627865fff5"
      },
      "source": [
        "# clustering of classes\n",
        "num_classes = len(classes)\n",
        "features_kmean = KMeans(n_clusters=num_classes, random_state=0).fit(y_train)\n",
        "features_kmean.cluster_centers_.shape"
      ],
      "execution_count": null,
      "outputs": [
        {
          "output_type": "execute_result",
          "data": {
            "text/plain": [
              "(5, 128)"
            ]
          },
          "metadata": {
            "tags": []
          },
          "execution_count": 114
        }
      ]
    },
    {
      "cell_type": "code",
      "metadata": {
        "id": "ttmWZdAl7tlm"
      },
      "source": [
        "# distance functions\n",
        "def euclid_dis(x,y):\n",
        "  sum_square = K.sum(K.square(x-y), axis=1, keepdims=True)\n",
        "  return K.sqrt(K.maximum(sum_square, K.epsilon()))\n",
        "\n",
        "def cos_distance(p1,p2):\n",
        "  return spatial.distance.cosine(p1, p2)"
      ],
      "execution_count": null,
      "outputs": []
    },
    {
      "cell_type": "code",
      "metadata": {
        "colab": {
          "base_uri": "https://localhost:8080/",
          "height": 221
        },
        "id": "iJJTiC-n4m0L",
        "outputId": "088230fb-a25b-4d27-db84-a061785629a9"
      },
      "source": [
        "# comparison between image features (128D vector) and clusters list\n",
        "sample = 2\n",
        "pic, img_val = process_image(images_val[sample])\n",
        "img_val = img_val.reshape( 1, img_val.shape[0], img_val.shape[1], img_val.shape[2] )\n",
        "\n",
        "# inference\n",
        "y_val= model.predict(img_val)\n",
        "print(images_val[sample].split('/')[-2])\n",
        "\n",
        "#\n",
        "cv2_imshow(pic)\n",
        "\n",
        "# comparison\n",
        "print(\"nearest cluster: \")\n",
        "for s in range(num_classes):\n",
        "  print( euclid_dis( y_val, features_kmean.cluster_centers_[s] ) )"
      ],
      "execution_count": null,
      "outputs": [
        {
          "output_type": "stream",
          "text": [
            "elton_john\n"
          ],
          "name": "stdout"
        },
        {
          "output_type": "display_data",
          "data": {
            "image/png": "[encoded data removed]",
            "text/plain": [
              "<PIL.Image.Image image mode=RGB size=80x80 at 0x7F53863E0E90>"
            ]
          },
          "metadata": {
            "tags": []
          }
        },
        {
          "output_type": "stream",
          "text": [
            "nearest cluster: \n",
            "tf.Tensor([[8.1211]], shape=(1, 1), dtype=float32)\n",
            "tf.Tensor([[15.657098]], shape=(1, 1), dtype=float32)\n",
            "tf.Tensor([[15.52243]], shape=(1, 1), dtype=float32)\n",
            "tf.Tensor([[16.27156]], shape=(1, 1), dtype=float32)\n",
            "tf.Tensor([[16.068813]], shape=(1, 1), dtype=float32)\n"
          ],
          "name": "stdout"
        }
      ]
    },
    {
      "cell_type": "code",
      "metadata": {
        "id": "5fbUiZC_L1uH"
      },
      "source": [
        "# Path model\n",
        "modellite = PATH_DRIVE+'facenet_keras.tflite'"
      ],
      "execution_count": null,
      "outputs": []
    },
    {
      "cell_type": "code",
      "metadata": {
        "colab": {
          "base_uri": "https://localhost:8080/"
        },
        "id": "K02wJvTIL4NL",
        "outputId": "61758da7-9db3-4633-bd9e-1180f33a3616"
      },
      "source": [
        "# Convert the model.\n",
        "converter = tf.lite.TFLiteConverter.from_keras_model(model)\n",
        "tflite_model = converter.convert()\n",
        "\n",
        "# Save the model.\n",
        "with open(modellite, 'wb') as f:\n",
        "  f.write(tflite_model)"
      ],
      "execution_count": null,
      "outputs": [
        {
          "output_type": "stream",
          "text": [
            "INFO:tensorflow:Assets written to: /tmp/tmpq1nb8xa1/assets\n"
          ],
          "name": "stdout"
        }
      ]
    }
  ]
}