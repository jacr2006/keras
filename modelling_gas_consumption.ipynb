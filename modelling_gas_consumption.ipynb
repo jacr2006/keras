{
  "nbformat": 4,
  "nbformat_minor": 0,
  "metadata": {
    "colab": {
      "name": "modelling_gas_consumption.ipynb",
      "provenance": [],
      "collapsed_sections": [],
      "mount_file_id": "1IVbYlqTtdBUVWuNQfjGE8CkvDCSUXO-g",
      "authorship_tag": "ABX9TyP0JCZhYNigCoJ6tiEZGAOg",
      "include_colab_link": true
    },
    "kernelspec": {
      "name": "python3",
      "display_name": "Python 3"
    }
  },
  "cells": [
    {
      "cell_type": "markdown",
      "metadata": {
        "id": "view-in-github",
        "colab_type": "text"
      },
      "source": [
        "<a href=\"https://colab.research.google.com/github/jacr2006/keras/blob/master/modelling_gas_consumption.ipynb\" target=\"_parent\"><img src=\"https://colab.research.google.com/assets/colab-badge.svg\" alt=\"Open In Colab\"/></a>"
      ]
    },
    {
      "cell_type": "code",
      "metadata": {
        "id": "qPvSrJ_aqvia",
        "colab_type": "code",
        "colab": {
          "base_uri": "https://localhost:8080/",
          "height": 34
        },
        "outputId": "7ecded97-ca72-4b71-9025-a4f8bfff36f1"
      },
      "source": [
        "from google.colab import drive\n",
        "drive.mount('/content/drive', force_remount=True)"
      ],
      "execution_count": null,
      "outputs": [
        {
          "output_type": "stream",
          "text": [
            "Mounted at /content/drive\n"
          ],
          "name": "stdout"
        }
      ]
    },
    {
      "cell_type": "code",
      "metadata": {
        "id": "S9sqtNr6K4Yf",
        "colab_type": "code",
        "colab": {}
      },
      "source": [
        "import pandas as pd\n",
        "import numpy as np\n",
        "import matplotlib.pyplot as plt\n",
        "import keras"
      ],
      "execution_count": null,
      "outputs": []
    },
    {
      "cell_type": "markdown",
      "metadata": {
        "id": "q_vSiCZSEKF6",
        "colab_type": "text"
      },
      "source": [
        "### Data visualization\n",
        "\n",
        "Source data from https://www.cne.cl/en/estadisticas/hidrocarburo/"
      ]
    },
    {
      "cell_type": "code",
      "metadata": {
        "id": "DzoXpvhBKvfo",
        "colab_type": "code",
        "colab": {}
      },
      "source": [
        "DIR_GAS_CONSUMPTION='/content/drive/My Drive/Consumo_mensual_GN-1.xls'# \n",
        "\n",
        "data_gas=pd.read_excel(DIR_GAS_CONSUMPTION,skiprows=7,index_col=0)#\n",
        "data_gas=data_gas.iloc[:,0:7]#delete colums without data\n",
        "data_gas=data_gas.dropna(axis=0)#delete rows (nan)"
      ],
      "execution_count": null,
      "outputs": []
    },
    {
      "cell_type": "code",
      "metadata": {
        "id": "fyynFOBdMLbf",
        "colab_type": "code",
        "colab": {
          "base_uri": "https://localhost:8080/",
          "height": 359
        },
        "outputId": "1a880c67-4893-45e2-a63b-62512138c298"
      },
      "source": [
        "data_gas.head(10)"
      ],
      "execution_count": null,
      "outputs": [
        {
          "output_type": "execute_result",
          "data": {
            "text/html": [
              "<div>\n",
              "<style scoped>\n",
              "    .dataframe tbody tr th:only-of-type {\n",
              "        vertical-align: middle;\n",
              "    }\n",
              "\n",
              "    .dataframe tbody tr th {\n",
              "        vertical-align: top;\n",
              "    }\n",
              "\n",
              "    .dataframe thead th {\n",
              "        text-align: right;\n",
              "    }\n",
              "</style>\n",
              "<table border=\"1\" class=\"dataframe\">\n",
              "  <thead>\n",
              "    <tr style=\"text-align: right;\">\n",
              "      <th></th>\n",
              "      <th>Res-Com</th>\n",
              "      <th>Industrial</th>\n",
              "      <th>GNC</th>\n",
              "      <th>Generación</th>\n",
              "      <th>Petroquímica</th>\n",
              "      <th>Otros</th>\n",
              "      <th>Total</th>\n",
              "    </tr>\n",
              "  </thead>\n",
              "  <tbody>\n",
              "    <tr>\n",
              "      <th>2006/1</th>\n",
              "      <td>23845.7</td>\n",
              "      <td>102511.971408</td>\n",
              "      <td>2594.776790</td>\n",
              "      <td>277166.112877</td>\n",
              "      <td>398567</td>\n",
              "      <td>736.936000</td>\n",
              "      <td>805422.451467</td>\n",
              "    </tr>\n",
              "    <tr>\n",
              "      <th>2006/2</th>\n",
              "      <td>21916.3</td>\n",
              "      <td>96065.289183</td>\n",
              "      <td>2120.722244</td>\n",
              "      <td>265056.067953</td>\n",
              "      <td>348128</td>\n",
              "      <td>681.493906</td>\n",
              "      <td>733967.537036</td>\n",
              "    </tr>\n",
              "    <tr>\n",
              "      <th>2006/3</th>\n",
              "      <td>29768.6</td>\n",
              "      <td>115035.990882</td>\n",
              "      <td>2653.021904</td>\n",
              "      <td>285310.629806</td>\n",
              "      <td>387048</td>\n",
              "      <td>982.738694</td>\n",
              "      <td>820798.956242</td>\n",
              "    </tr>\n",
              "    <tr>\n",
              "      <th>2006/4</th>\n",
              "      <td>37879.4</td>\n",
              "      <td>80942.483095</td>\n",
              "      <td>2556.255207</td>\n",
              "      <td>206046.660428</td>\n",
              "      <td>374579</td>\n",
              "      <td>1271.259632</td>\n",
              "      <td>703275.320253</td>\n",
              "    </tr>\n",
              "    <tr>\n",
              "      <th>2006/5</th>\n",
              "      <td>50226.2</td>\n",
              "      <td>58714.494554</td>\n",
              "      <td>2844.100560</td>\n",
              "      <td>168434.001342</td>\n",
              "      <td>390701</td>\n",
              "      <td>1528.434197</td>\n",
              "      <td>672448.344972</td>\n",
              "    </tr>\n",
              "    <tr>\n",
              "      <th>2006/6</th>\n",
              "      <td>62010</td>\n",
              "      <td>27943.101009</td>\n",
              "      <td>2628.132921</td>\n",
              "      <td>106221.226230</td>\n",
              "      <td>342083</td>\n",
              "      <td>1791.350432</td>\n",
              "      <td>542676.964399</td>\n",
              "    </tr>\n",
              "    <tr>\n",
              "      <th>2006/7</th>\n",
              "      <td>65361.2</td>\n",
              "      <td>74504.917671</td>\n",
              "      <td>2873.393860</td>\n",
              "      <td>153137.151742</td>\n",
              "      <td>293214</td>\n",
              "      <td>1791.063650</td>\n",
              "      <td>590882.155455</td>\n",
              "    </tr>\n",
              "    <tr>\n",
              "      <th>2006/8</th>\n",
              "      <td>63770.1</td>\n",
              "      <td>45319.960324</td>\n",
              "      <td>2936.161240</td>\n",
              "      <td>104704.550160</td>\n",
              "      <td>340027</td>\n",
              "      <td>1808.622380</td>\n",
              "      <td>558566.611765</td>\n",
              "    </tr>\n",
              "    <tr>\n",
              "      <th>2006/9</th>\n",
              "      <td>53705.8</td>\n",
              "      <td>76250.537450</td>\n",
              "      <td>2746.288292</td>\n",
              "      <td>134140.563391</td>\n",
              "      <td>324215</td>\n",
              "      <td>1675.845179</td>\n",
              "      <td>592734.192255</td>\n",
              "    </tr>\n",
              "    <tr>\n",
              "      <th>2006/10</th>\n",
              "      <td>44792.8</td>\n",
              "      <td>100538.399495</td>\n",
              "      <td>2997.030213</td>\n",
              "      <td>176643.475191</td>\n",
              "      <td>355750</td>\n",
              "      <td>1514.711450</td>\n",
              "      <td>682236.506840</td>\n",
              "    </tr>\n",
              "  </tbody>\n",
              "</table>\n",
              "</div>"
            ],
            "text/plain": [
              "         Res-Com     Industrial  ...        Otros          Total\n",
              "2006/1   23845.7  102511.971408  ...   736.936000  805422.451467\n",
              "2006/2   21916.3   96065.289183  ...   681.493906  733967.537036\n",
              "2006/3   29768.6  115035.990882  ...   982.738694  820798.956242\n",
              "2006/4   37879.4   80942.483095  ...  1271.259632  703275.320253\n",
              "2006/5   50226.2   58714.494554  ...  1528.434197  672448.344972\n",
              "2006/6     62010   27943.101009  ...  1791.350432  542676.964399\n",
              "2006/7   65361.2   74504.917671  ...  1791.063650  590882.155455\n",
              "2006/8   63770.1   45319.960324  ...  1808.622380  558566.611765\n",
              "2006/9   53705.8   76250.537450  ...  1675.845179  592734.192255\n",
              "2006/10  44792.8  100538.399495  ...  1514.711450  682236.506840\n",
              "\n",
              "[10 rows x 7 columns]"
            ]
          },
          "metadata": {
            "tags": []
          },
          "execution_count": 570
        }
      ]
    },
    {
      "cell_type": "code",
      "metadata": {
        "id": "V4J2XfIO_duk",
        "colab_type": "code",
        "colab": {
          "base_uri": "https://localhost:8080/",
          "height": 34
        },
        "outputId": "6cad6816-51be-4d19-9dad-1b9273ea466e"
      },
      "source": [
        "data_gas.shape"
      ],
      "execution_count": null,
      "outputs": [
        {
          "output_type": "execute_result",
          "data": {
            "text/plain": [
              "(154, 7)"
            ]
          },
          "metadata": {
            "tags": []
          },
          "execution_count": 571
        }
      ]
    },
    {
      "cell_type": "code",
      "metadata": {
        "id": "ALTx8xAxsSQY",
        "colab_type": "code",
        "colab": {
          "base_uri": "https://localhost:8080/",
          "height": 282
        },
        "outputId": "5147521e-1cbe-4f6f-b9db-1b967f50475c"
      },
      "source": [
        "#data_gas.plot(kind='bar',y='Res-Com',color='red')\n",
        "#data_gas.plot(kind='line',y='Res-Com',color='red')\n",
        "data_gas.loc['2010/1':'2017/12'].plot(kind='line',y='Res-Com',color='red')"
      ],
      "execution_count": null,
      "outputs": [
        {
          "output_type": "execute_result",
          "data": {
            "text/plain": [
              "<matplotlib.axes._subplots.AxesSubplot at 0x7f64d04423c8>"
            ]
          },
          "metadata": {
            "tags": []
          },
          "execution_count": 572
        },
        {
          "output_type": "display_data",
          "data": {
            "image/png": "[encoded data removed]",
            "text/plain": [
              "<Figure size 432x288 with 1 Axes>"
            ]
          },
          "metadata": {
            "tags": []
          }
        }
      ]
    },
    {
      "cell_type": "code",
      "metadata": {
        "id": "pzJzgB_46n4I",
        "colab_type": "code",
        "colab": {}
      },
      "source": [
        "y=data_gas['Res-Com'].to_numpy()"
      ],
      "execution_count": null,
      "outputs": []
    },
    {
      "cell_type": "code",
      "metadata": {
        "id": "oeZ-J6BXRjnT",
        "colab_type": "code",
        "colab": {
          "base_uri": "https://localhost:8080/",
          "height": 503
        },
        "outputId": "edcc3c39-e920-4a83-d9a1-bb9f9bda26ad"
      },
      "source": [
        "plt.hist(y, 20, density=True)#data distribution: Not Gaussian"
      ],
      "execution_count": null,
      "outputs": [
        {
          "output_type": "execute_result",
          "data": {
            "text/plain": [
              "(array([6.86584864e-06, 2.23140081e-05, 2.05975459e-05, 1.71646216e-05,\n",
              "        3.08963189e-05, 2.40304702e-05, 2.05975459e-05, 6.86584864e-06,\n",
              "        1.54481594e-05, 1.54481594e-05, 1.54481594e-05, 1.02987730e-05,\n",
              "        1.20152351e-05, 8.58231080e-06, 1.54481594e-05, 5.14938648e-06,\n",
              "        5.14938648e-06, 8.58231080e-06, 1.71646216e-06, 1.71646216e-06]),\n",
              " array([20879.76809444662, 24662.843915265054, 28445.919736083488,\n",
              "        32228.995556901922, 36012.07137772036, 39795.14719853879,\n",
              "        43578.223019357225, 47361.29884017566, 51144.37466099409,\n",
              "        54927.45048181253, 58710.52630263096, 62493.6021234494,\n",
              "        66276.67794426784, 70059.75376508627, 73842.82958590469,\n",
              "        77625.90540672313, 81408.98122754158, 85192.05704836,\n",
              "        88975.13286917843, 92758.20868999689, 96541.28451081531],\n",
              "       dtype=object),\n",
              " <a list of 20 Patch objects>)"
            ]
          },
          "metadata": {
            "tags": []
          },
          "execution_count": 574
        },
        {
          "output_type": "display_data",
          "data": {
            "image/png": "[encoded data removed]",
            "text/plain": [
              "<Figure size 432x288 with 1 Axes>"
            ]
          },
          "metadata": {
            "tags": []
          }
        }
      ]
    },
    {
      "cell_type": "code",
      "metadata": {
        "id": "CrbQbz8C8FyP",
        "colab_type": "code",
        "colab": {
          "base_uri": "https://localhost:8080/",
          "height": 901
        },
        "outputId": "fdd12aae-89ea-4f45-f95c-d8a5777fab7d"
      },
      "source": [
        "y# 154-D dimension vector"
      ],
      "execution_count": null,
      "outputs": [
        {
          "output_type": "execute_result",
          "data": {
            "text/plain": [
              "array([23845.693392678153, 21916.34071909604, 29768.550375258073,\n",
              "       37879.3906378333, 50226.20596132905, 62009.96375076079,\n",
              "       65361.23044839852, 63770.11460538993, 53705.78092060679,\n",
              "       44792.8195681506, 37429.13263732102, 34773.847933297395,\n",
              "       28781.75667763631, 25123.92192148569, 32209.482362176197,\n",
              "       41134.87844698696, 60952.00641837301, 71760.25682841857,\n",
              "       58257.318045997985, 53265.776040913974, 51232.07713932653,\n",
              "       39597.731537530606, 37935.986345738675, 29685.056566887968,\n",
              "       25358.619872355343, 23731.434025595747, 28050.2808882,\n",
              "       35282.2195549866, 43080.370386627845, 41692.78344984533,\n",
              "       55022.14846487328, 57260.910988290714, 41836.32663873912,\n",
              "       41422.65700930002, 38559.1595023, 25401.67087721111,\n",
              "       25076.01996255376, 20879.76809444662, 25293.78491153799,\n",
              "       30882.182765187797, 41269.326850531295, 37010.11493284362,\n",
              "       44572.570610439674, 61554.30760823705, 59083.49387309899,\n",
              "       47667.39511847578, 43000.38461515896, 36557.11813572919,\n",
              "       27407.117585854183, 27074.858217281235, 31344.856055600412,\n",
              "       43790.74855429655, 55075.16199565556, 68171.30451205587,\n",
              "       80334.51283714618, 70280.14420952377, 57394.432074467564,\n",
              "       47383.134850876195, 40560.52122031062, 39680.512821314085,\n",
              "       31558.332961052653, 29013.448601173233, 34885.44768867707,\n",
              "       43731.46798425051, 55901.7557597174, 68974.28739755518,\n",
              "       76803.03310539923, 74677.65299818233, 56631.43282161565,\n",
              "       46712.48308045671, 39065.56135689528, 33425.07816275997,\n",
              "       26316.39189736292, 25432.31775409453, 33160.08210150281,\n",
              "       40563.93909244156, 56331.43639623704, 68754.61905910143,\n",
              "       76638.96141220695, 74047.96479913202, 55042.081084468686,\n",
              "       51819.78755839413, 42467.28702168197, 36134.36157577969,\n",
              "       30544.32869446342, 25799.334246011946, 32714.165288530698,\n",
              "       39887.02116158782, 60211.92717832745, 70176.10922782062,\n",
              "       76912.42737542711, 76489.59428403538, 62354.1968276105,\n",
              "       51645.76869008622, 47019.33655000877, 39367.384779391265,\n",
              "       36808.39153869102, 30096.1754180323, 36859.87324908052,\n",
              "       46935.678693425834, 66184.33968469963, 80299.99511519152,\n",
              "       83307.07119993161, 79062.76549347719, 68206.39150541864,\n",
              "       53156.27189902703, 46596.89262459875, 41341.76828431006,\n",
              "       35435.2158209996, 27769.168062650067, 37452.714193431435,\n",
              "       44850.88521939513, 61726.73464413012, 77340.96352878574,\n",
              "       87482.69700456044, 84110.4182289135, 68603.11306180265,\n",
              "       62513.588465347486, 47713.01906079372, 41836.69542007239,\n",
              "       35687.77532296148, 26094.569725645004, 35388.28518741924,\n",
              "       52537.50594941908, 65399.66194444823, 75905.29045587477,\n",
              "       82160.48572258193, 75485.8224279419, 62808.67496362758,\n",
              "       53498.710659947035, 44503.520906541955, 38743.26159108655,\n",
              "       35819.18800741987, 29131.406027588466, 37542.8157944223,\n",
              "       45718.91692449574, 71040.0684526672, 88263.36430474378,\n",
              "       88774.05578034317, 86705.76533281004, 73079.05489614951,\n",
              "       60199.220948007634, 47070.87781123471, 40371.535351299135,\n",
              "       38453.53877198608, 31125.045050233297, 39133.28887658988,\n",
              "       51276.95818163615, 68894.8577795688, 89495.61346468741,\n",
              "       96541.28451081531, 86832.93252059819, 68640.174962,\n",
              "       61436.44218656204], dtype=object)"
            ]
          },
          "metadata": {
            "tags": []
          },
          "execution_count": 575
        }
      ]
    },
    {
      "cell_type": "markdown",
      "metadata": {
        "id": "vIC6SHI0Edi1",
        "colab_type": "text"
      },
      "source": [
        "Data normalization"
      ]
    },
    {
      "cell_type": "code",
      "metadata": {
        "id": "EfvUd3T07BCV",
        "colab_type": "code",
        "colab": {
          "base_uri": "https://localhost:8080/",
          "height": 34
        },
        "outputId": "2a9dad54-4cfc-41bd-863f-c0de3ed2b05a"
      },
      "source": [
        "mean = np.mean(y) \n",
        "min = np.min(y)\n",
        "max = np.max(y)\n",
        "print( \"mean: \"+str(mean)+\" ,min: \"+str(min)+\" ,max:\"+str(max) )\n",
        "y_norm = (y-mean)/(max-min)"
      ],
      "execution_count": null,
      "outputs": [
        {
          "output_type": "stream",
          "text": [
            "mean: 49961.81349049414 ,min: 20879.76809444662 ,max:96541.28451081531\n"
          ],
          "name": "stdout"
        }
      ]
    },
    {
      "cell_type": "code",
      "metadata": {
        "id": "ghCQSNCR783b",
        "colab_type": "code",
        "colab": {
          "base_uri": "https://localhost:8080/",
          "height": 901
        },
        "outputId": "e2a4de4f-a662-4ba1-9481-1454f9a68c00"
      },
      "source": [
        "y_norm"
      ],
      "execution_count": null,
      "outputs": [
        {
          "output_type": "execute_result",
          "data": {
            "text/plain": [
              "array([-0.34517045566596655, -0.37067024426344586, -0.2668894845314974,\n",
              "       -0.159690466500443, 0.0034944114704223506, 0.1592374939191695,\n",
              "       0.20353037696417167, 0.1825009829159132, 0.049483113839662314,\n",
              "       -0.06831734502779907, -0.16564141781411335, -0.20073567483919694,\n",
              "       -0.27993169864985307, -0.32827641772766525, -0.23462827562992628,\n",
              "       -0.11666346990631495, 0.1452547272169295, 0.28810476409125385,\n",
              "       0.10963968141813753, 0.04366767554905959, 0.016788768042158633,\n",
              "       -0.1369795695863341, -0.15894245468960475, -0.2679930020437639,\n",
              "       -0.3251744715602359, -0.34668059414182834, -0.2895994376019905,\n",
              "       -0.19401664982135808, -0.09095037252488317, -0.10928977414547139,\n",
              "       0.06688122593964271, 0.0964704098399154, -0.10739259846498589,\n",
              "       -0.11285997010954371, -0.15070612549509094, -0.3246054768203095,\n",
              "       -0.328909526356738, -0.3843703744451503, -0.32603137958809725,\n",
              "       -0.2521708740320546, -0.1148864978085782, -0.17117947367558356,\n",
              "       -0.07122832234021352, 0.15321519666548716, 0.12055904791027233,\n",
              "       -0.030324773817538512, -0.09200752516016368, -0.1771666230028792,\n",
              "       -0.29809997172830194, -0.3024913636050456, -0.2460558328284591,\n",
              "       -0.08156147574729991, 0.06758189298007768, 0.24067044759391404,\n",
              "       0.4014286361842092, 0.2685424728631786, 0.09823512580783332,\n",
              "       -0.03408177316229511, -0.12425461073827533, -0.1358854693395464,\n",
              "       -0.2432343600961725, -0.27686948242011333, -0.1992606878092577,\n",
              "       -0.08234497273300426, 0.07850678324414614, 0.25128327857499644,\n",
              "       0.3547539209655363, 0.32666328509299, 0.08815074884857314,\n",
              "       -0.04294561573622475, -0.14401313441348831, -0.21856203934285137,\n",
              "       -0.3125158298838397, -0.3242004244458002, -0.22206442832219558,\n",
              "       -0.12420943754729502, 0.08418576850469905, 0.2483799751671596,\n",
              "       0.35258542499871764, 0.31834084815443986, 0.06714467056168433,\n",
              "       0.02455639479488455, -0.09905334737899589, -0.18275409441467405,\n",
              "       -0.2566362097367364, -0.3193496560591648, -0.22795800320798315,\n",
              "       -0.13315609845121645, 0.13547327853471086, 0.2671674676210071,\n",
              "       0.3561997586279205, 0.35061127571852624, 0.1637871394081045,\n",
              "       0.02225642941551947, -0.03889000749459991, -0.14002400708969753,\n",
              "       -0.17384560308597638, -0.26255934342024484, -0.17316518174593623,\n",
              "       -0.03999569319249896, 0.21440921306588953, 0.40097242378470205,\n",
              "       0.4407162225765743, 0.38462025850551573, 0.24113418391621672,\n",
              "       0.04222038573683408, -0.04447334689114711, -0.11392905686356569,\n",
              "       -0.1919945351022841, -0.2933148379648771, -0.16532974607889928,\n",
              "       -0.06754990533064845, 0.155494123180047, 0.36186361753077906,\n",
              "       0.4959044609625217, 0.4513338663541724, 0.24637755696997415,\n",
              "       0.16589378021159887, -0.02972177318420643, -0.10738772437111704,\n",
              "       -0.1886565171253242, -0.31544759998605676, -0.19261480595863456,\n",
              "       0.03404230553285225, 0.20403831677122253, 0.34288867305556664,\n",
              "       0.4255620790746126, 0.3373446653776802, 0.16979386723412454,\n",
              "       0.04674631618522147, -0.07214093561005251, -0.1482728926244539,\n",
              "       -0.18691966739401272, -0.27531046758665284, -0.1641388949664919,\n",
              "       -0.05607733980177656, 0.27858620816133906, 0.506222352238812,\n",
              "       0.5129720382058369, 0.4856359425855583, 0.30553499983320664,\n",
              "       0.13530534335548586, -0.03820879908552822, -0.12675239135334374,\n",
              "       -0.15210208919389762, -0.24896102183045432, -0.1431179961331254,\n",
              "       0.017381949945395145, 0.2502334764860551, 0.5225086919569126,\n",
              "       0.6156296255548498, 0.4873166806121178, 0.24686739515922482,\n",
              "       0.1516573978364709], dtype=object)"
            ]
          },
          "metadata": {
            "tags": []
          },
          "execution_count": 577
        }
      ]
    },
    {
      "cell_type": "code",
      "metadata": {
        "colab_type": "code",
        "id": "PcVjoGNbzT7c",
        "colab": {}
      },
      "source": [
        "X=[x for x in range(len(data_gas.index))]#X index as base time"
      ],
      "execution_count": null,
      "outputs": []
    },
    {
      "cell_type": "code",
      "metadata": {
        "id": "ZE508eTFOxLE",
        "colab_type": "code",
        "colab": {
          "base_uri": "https://localhost:8080/",
          "height": 34
        },
        "outputId": "ef248b8d-d38e-4f38-9aca-14badcf10bea"
      },
      "source": [
        "# split dataset\n",
        "train_size = int(len(y_norm) * 0.7)#70% for \"training\" and 30% para \"validation\"\n",
        "test_size = len(y_norm) - train_size\n",
        "\n",
        "train, test = y[0:train_size], y[train_size:len(y)]\n",
        "train_norm, test_norm = y_norm[0:train_size], y_norm[train_size:len(y_norm)]\n",
        "\n",
        "print(len(train_norm), len(test_norm))"
      ],
      "execution_count": null,
      "outputs": [
        {
          "output_type": "stream",
          "text": [
            "107 47\n"
          ],
          "name": "stdout"
        }
      ]
    },
    {
      "cell_type": "code",
      "metadata": {
        "id": "YH4bfrNoQOjT",
        "colab_type": "code",
        "colab": {}
      },
      "source": [
        "# transform data time serie to labeled data\n",
        "def create_dataset(X, y, time_steps=1):\n",
        "    Xs, ys = [], []\n",
        "    for i in range(len(X) - time_steps):\n",
        "        v = X[i:(i + time_steps)]\n",
        "        Xs.append(v)\n",
        "        ys.append(y[i + time_steps])\n",
        "    return np.array(Xs), np.array(ys)"
      ],
      "execution_count": null,
      "outputs": []
    },
    {
      "cell_type": "code",
      "metadata": {
        "id": "x66qtRGsQi1_",
        "colab_type": "code",
        "colab": {
          "base_uri": "https://localhost:8080/",
          "height": 34
        },
        "outputId": "4e73521c-4564-443d-dbe9-02a1e0e3c011"
      },
      "source": [
        "time_steps = 15\n",
        "\n",
        "X_train, y_train = create_dataset(train, train, time_steps)\n",
        "X_test, y_test = create_dataset(test, test, time_steps)\n",
        "X_train_norm, y_train_norm = create_dataset(train_norm, train_norm, time_steps)\n",
        "X_test_norm, y_test_norm = create_dataset(test_norm, test_norm, time_steps)\n",
        "\n",
        "X_train=np.expand_dims(X_train, axis=2)\n",
        "X_test=np.expand_dims(X_test, axis=2)\n",
        "X_train_norm=np.expand_dims(X_train_norm, axis=2)\n",
        "X_test_norm=np.expand_dims(X_test_norm, axis=2)\n",
        "\n",
        "# 15 previous observations(features) output the next\n",
        "print(X_train_norm.shape, y_train_norm.shape)"
      ],
      "execution_count": null,
      "outputs": [
        {
          "output_type": "stream",
          "text": [
            "(92, 15, 1) (92,)\n"
          ],
          "name": "stdout"
        }
      ]
    },
    {
      "cell_type": "code",
      "metadata": {
        "id": "TQvWEfukGC2M",
        "colab_type": "code",
        "colab": {
          "base_uri": "https://localhost:8080/",
          "height": 272
        },
        "outputId": "5d8f03b5-51f7-46ef-9b5d-b5e2c51995c3"
      },
      "source": [
        "X_train_norm[2]"
      ],
      "execution_count": null,
      "outputs": [
        {
          "output_type": "execute_result",
          "data": {
            "text/plain": [
              "array([[-0.2668894845314974],\n",
              "       [-0.159690466500443],\n",
              "       [0.0034944114704223506],\n",
              "       [0.1592374939191695],\n",
              "       [0.20353037696417167],\n",
              "       [0.1825009829159132],\n",
              "       [0.049483113839662314],\n",
              "       [-0.06831734502779907],\n",
              "       [-0.16564141781411335],\n",
              "       [-0.20073567483919694],\n",
              "       [-0.27993169864985307],\n",
              "       [-0.32827641772766525],\n",
              "       [-0.23462827562992628],\n",
              "       [-0.11666346990631495],\n",
              "       [0.1452547272169295]], dtype=object)"
            ]
          },
          "metadata": {
            "tags": []
          },
          "execution_count": 582
        }
      ]
    },
    {
      "cell_type": "code",
      "metadata": {
        "id": "88k70-zgGGjb",
        "colab_type": "code",
        "colab": {
          "base_uri": "https://localhost:8080/",
          "height": 34
        },
        "outputId": "82c79d7d-c8b4-4bbb-c9c3-8469529d9f94"
      },
      "source": [
        "y_train_norm[1]"
      ],
      "execution_count": null,
      "outputs": [
        {
          "output_type": "execute_result",
          "data": {
            "text/plain": [
              "0.1452547272169295"
            ]
          },
          "metadata": {
            "tags": []
          },
          "execution_count": 583
        }
      ]
    },
    {
      "cell_type": "markdown",
      "metadata": {
        "id": "OGpmQJy_EpM-",
        "colab_type": "text"
      },
      "source": [
        "##Trainnig model"
      ]
    },
    {
      "cell_type": "code",
      "metadata": {
        "id": "WPsRNP3cG2LU",
        "colab_type": "code",
        "colab": {}
      },
      "source": [
        "# create stack\n",
        "model = keras.Sequential()\n",
        "model.add(keras.layers.LSTM(128, input_shape=(X_train_norm.shape[1], X_train_norm.shape[2])))\n",
        "model.add(keras.layers.Dense(1, activation='linear'))#linear for lineal regression\n",
        "#MAE es prefered for regression, \n",
        "#target variable have non Gaussioan distribution, so was preferred MAE\n",
        "model.compile(loss='mean_absolute_error', optimizer=keras.optimizers.Adam(0.001))"
      ],
      "execution_count": null,
      "outputs": []
    },
    {
      "cell_type": "code",
      "metadata": {
        "id": "8IjI-VKXI9kp",
        "colab_type": "code",
        "colab": {
          "base_uri": "https://localhost:8080/",
          "height": 1000
        },
        "outputId": "397fbccc-6065-4a20-b953-9af941cf0b7d"
      },
      "source": [
        "# fit model: disable \"shuffle\" for time series, \n",
        "history = model.fit(\n",
        "    X_train_norm, y_train_norm, \n",
        "    epochs=100, \n",
        "    batch_size=16, \n",
        "    validation_split=0.2, \n",
        "    verbose=1, \n",
        "    shuffle=False\n",
        ")"
      ],
      "execution_count": null,
      "outputs": [
        {
          "output_type": "stream",
          "text": [
            "Train on 73 samples, validate on 19 samples\n",
            "Epoch 1/100\n",
            "73/73 [==============================] - 7s 94ms/step - loss: 0.1808 - val_loss: 0.2247\n",
            "Epoch 2/100\n",
            "73/73 [==============================] - 0s 2ms/step - loss: 0.1598 - val_loss: 0.2525\n",
            "Epoch 3/100\n",
            "73/73 [==============================] - 0s 1ms/step - loss: 0.1526 - val_loss: 0.2283\n",
            "Epoch 4/100\n",
            "73/73 [==============================] - 0s 2ms/step - loss: 0.1395 - val_loss: 0.2085\n",
            "Epoch 5/100\n",
            "73/73 [==============================] - 0s 1ms/step - loss: 0.1256 - val_loss: 0.1882\n",
            "Epoch 6/100\n",
            "73/73 [==============================] - 0s 2ms/step - loss: 0.0988 - val_loss: 0.1027\n",
            "Epoch 7/100\n",
            "73/73 [==============================] - 0s 1ms/step - loss: 0.0864 - val_loss: 0.0665\n",
            "Epoch 8/100\n",
            "73/73 [==============================] - 0s 2ms/step - loss: 0.0878 - val_loss: 0.0680\n",
            "Epoch 9/100\n",
            "73/73 [==============================] - 0s 1ms/step - loss: 0.0853 - val_loss: 0.0792\n",
            "Epoch 10/100\n",
            "73/73 [==============================] - 0s 2ms/step - loss: 0.0813 - val_loss: 0.0845\n",
            "Epoch 11/100\n",
            "73/73 [==============================] - 0s 1ms/step - loss: 0.0801 - val_loss: 0.0890\n",
            "Epoch 12/100\n",
            "73/73 [==============================] - 0s 2ms/step - loss: 0.0783 - val_loss: 0.0906\n",
            "Epoch 13/100\n",
            "73/73 [==============================] - 0s 1ms/step - loss: 0.0766 - val_loss: 0.0855\n",
            "Epoch 14/100\n",
            "73/73 [==============================] - 0s 2ms/step - loss: 0.0750 - val_loss: 0.0791\n",
            "Epoch 15/100\n",
            "73/73 [==============================] - 0s 2ms/step - loss: 0.0744 - val_loss: 0.0742\n",
            "Epoch 16/100\n",
            "73/73 [==============================] - 0s 1ms/step - loss: 0.0725 - val_loss: 0.0706\n",
            "Epoch 17/100\n",
            "73/73 [==============================] - 0s 1ms/step - loss: 0.0718 - val_loss: 0.0653\n",
            "Epoch 18/100\n",
            "73/73 [==============================] - 0s 1ms/step - loss: 0.0706 - val_loss: 0.0629\n",
            "Epoch 19/100\n",
            "73/73 [==============================] - 0s 2ms/step - loss: 0.0697 - val_loss: 0.0640\n",
            "Epoch 20/100\n",
            "73/73 [==============================] - 0s 1ms/step - loss: 0.0693 - val_loss: 0.0614\n",
            "Epoch 21/100\n",
            "73/73 [==============================] - 0s 2ms/step - loss: 0.0674 - val_loss: 0.0584\n",
            "Epoch 22/100\n",
            "73/73 [==============================] - 0s 2ms/step - loss: 0.0677 - val_loss: 0.0530\n",
            "Epoch 23/100\n",
            "73/73 [==============================] - 0s 2ms/step - loss: 0.0673 - val_loss: 0.0495\n",
            "Epoch 24/100\n",
            "73/73 [==============================] - 0s 1ms/step - loss: 0.0653 - val_loss: 0.0545\n",
            "Epoch 25/100\n",
            "73/73 [==============================] - 0s 2ms/step - loss: 0.0660 - val_loss: 0.0554\n",
            "Epoch 26/100\n",
            "73/73 [==============================] - 0s 2ms/step - loss: 0.0644 - val_loss: 0.0500\n",
            "Epoch 27/100\n",
            "73/73 [==============================] - 0s 2ms/step - loss: 0.0639 - val_loss: 0.0486\n",
            "Epoch 28/100\n",
            "73/73 [==============================] - 0s 2ms/step - loss: 0.0642 - val_loss: 0.0497\n",
            "Epoch 29/100\n",
            "73/73 [==============================] - 0s 2ms/step - loss: 0.0639 - val_loss: 0.0497\n",
            "Epoch 30/100\n",
            "73/73 [==============================] - 0s 2ms/step - loss: 0.0632 - val_loss: 0.0484\n",
            "Epoch 31/100\n",
            "73/73 [==============================] - 0s 2ms/step - loss: 0.0629 - val_loss: 0.0476\n",
            "Epoch 32/100\n",
            "73/73 [==============================] - 0s 1ms/step - loss: 0.0630 - val_loss: 0.0467\n",
            "Epoch 33/100\n",
            "73/73 [==============================] - 0s 2ms/step - loss: 0.0624 - val_loss: 0.0451\n",
            "Epoch 34/100\n",
            "73/73 [==============================] - 0s 1ms/step - loss: 0.0621 - val_loss: 0.0475\n",
            "Epoch 35/100\n",
            "73/73 [==============================] - 0s 2ms/step - loss: 0.0621 - val_loss: 0.0456\n",
            "Epoch 36/100\n",
            "73/73 [==============================] - 0s 1ms/step - loss: 0.0610 - val_loss: 0.0411\n",
            "Epoch 37/100\n",
            "73/73 [==============================] - 0s 2ms/step - loss: 0.0612 - val_loss: 0.0420\n",
            "Epoch 38/100\n",
            "73/73 [==============================] - 0s 2ms/step - loss: 0.0615 - val_loss: 0.0441\n",
            "Epoch 39/100\n",
            "73/73 [==============================] - 0s 2ms/step - loss: 0.0614 - val_loss: 0.0411\n",
            "Epoch 40/100\n",
            "73/73 [==============================] - 0s 1ms/step - loss: 0.0605 - val_loss: 0.0410\n",
            "Epoch 41/100\n",
            "73/73 [==============================] - 0s 2ms/step - loss: 0.0601 - val_loss: 0.0458\n",
            "Epoch 42/100\n",
            "73/73 [==============================] - 0s 1ms/step - loss: 0.0606 - val_loss: 0.0419\n",
            "Epoch 43/100\n",
            "73/73 [==============================] - 0s 1ms/step - loss: 0.0594 - val_loss: 0.0388\n",
            "Epoch 44/100\n",
            "73/73 [==============================] - 0s 2ms/step - loss: 0.0592 - val_loss: 0.0428\n",
            "Epoch 45/100\n",
            "73/73 [==============================] - 0s 1ms/step - loss: 0.0595 - val_loss: 0.0430\n",
            "Epoch 46/100\n",
            "73/73 [==============================] - 0s 2ms/step - loss: 0.0585 - val_loss: 0.0377\n",
            "Epoch 47/100\n",
            "73/73 [==============================] - 0s 1ms/step - loss: 0.0585 - val_loss: 0.0400\n",
            "Epoch 48/100\n",
            "73/73 [==============================] - 0s 2ms/step - loss: 0.0586 - val_loss: 0.0408\n",
            "Epoch 49/100\n",
            "73/73 [==============================] - 0s 1ms/step - loss: 0.0579 - val_loss: 0.0401\n",
            "Epoch 50/100\n",
            "73/73 [==============================] - 0s 2ms/step - loss: 0.0571 - val_loss: 0.0385\n",
            "Epoch 51/100\n",
            "73/73 [==============================] - 0s 1ms/step - loss: 0.0578 - val_loss: 0.0390\n",
            "Epoch 52/100\n",
            "73/73 [==============================] - 0s 2ms/step - loss: 0.0581 - val_loss: 0.0368\n",
            "Epoch 53/100\n",
            "73/73 [==============================] - 0s 1ms/step - loss: 0.0568 - val_loss: 0.0390\n",
            "Epoch 54/100\n",
            "73/73 [==============================] - 0s 2ms/step - loss: 0.0582 - val_loss: 0.0406\n",
            "Epoch 55/100\n",
            "73/73 [==============================] - 0s 1ms/step - loss: 0.0578 - val_loss: 0.0375\n",
            "Epoch 56/100\n",
            "73/73 [==============================] - 0s 2ms/step - loss: 0.0561 - val_loss: 0.0383\n",
            "Epoch 57/100\n",
            "73/73 [==============================] - 0s 1ms/step - loss: 0.0580 - val_loss: 0.0402\n",
            "Epoch 58/100\n",
            "73/73 [==============================] - 0s 2ms/step - loss: 0.0564 - val_loss: 0.0371\n",
            "Epoch 59/100\n",
            "73/73 [==============================] - 0s 1ms/step - loss: 0.0557 - val_loss: 0.0383\n",
            "Epoch 60/100\n",
            "73/73 [==============================] - 0s 2ms/step - loss: 0.0561 - val_loss: 0.0387\n",
            "Epoch 61/100\n",
            "73/73 [==============================] - 0s 1ms/step - loss: 0.0575 - val_loss: 0.0384\n",
            "Epoch 62/100\n",
            "73/73 [==============================] - 0s 2ms/step - loss: 0.0559 - val_loss: 0.0377\n",
            "Epoch 63/100\n",
            "73/73 [==============================] - 0s 2ms/step - loss: 0.0547 - val_loss: 0.0389\n",
            "Epoch 64/100\n",
            "73/73 [==============================] - 0s 2ms/step - loss: 0.0579 - val_loss: 0.0388\n",
            "Epoch 65/100\n",
            "73/73 [==============================] - 0s 2ms/step - loss: 0.0556 - val_loss: 0.0380\n",
            "Epoch 66/100\n",
            "73/73 [==============================] - 0s 2ms/step - loss: 0.0546 - val_loss: 0.0391\n",
            "Epoch 67/100\n",
            "73/73 [==============================] - 0s 1ms/step - loss: 0.0580 - val_loss: 0.0402\n",
            "Epoch 68/100\n",
            "73/73 [==============================] - 0s 1ms/step - loss: 0.0553 - val_loss: 0.0384\n",
            "Epoch 69/100\n",
            "73/73 [==============================] - 0s 1ms/step - loss: 0.0545 - val_loss: 0.0381\n",
            "Epoch 70/100\n",
            "73/73 [==============================] - 0s 1ms/step - loss: 0.0585 - val_loss: 0.0420\n",
            "Epoch 71/100\n",
            "73/73 [==============================] - 0s 2ms/step - loss: 0.0539 - val_loss: 0.0389\n",
            "Epoch 72/100\n",
            "73/73 [==============================] - 0s 1ms/step - loss: 0.0535 - val_loss: 0.0381\n",
            "Epoch 73/100\n",
            "73/73 [==============================] - 0s 2ms/step - loss: 0.0537 - val_loss: 0.0397\n",
            "Epoch 74/100\n",
            "73/73 [==============================] - 0s 2ms/step - loss: 0.0542 - val_loss: 0.0372\n",
            "Epoch 75/100\n",
            "73/73 [==============================] - 0s 1ms/step - loss: 0.0533 - val_loss: 0.0381\n",
            "Epoch 76/100\n",
            "73/73 [==============================] - 0s 2ms/step - loss: 0.0553 - val_loss: 0.0389\n",
            "Epoch 77/100\n",
            "73/73 [==============================] - 0s 2ms/step - loss: 0.0527 - val_loss: 0.0379\n",
            "Epoch 78/100\n",
            "73/73 [==============================] - 0s 1ms/step - loss: 0.0535 - val_loss: 0.0400\n",
            "Epoch 79/100\n",
            "73/73 [==============================] - 0s 2ms/step - loss: 0.0524 - val_loss: 0.0372\n",
            "Epoch 80/100\n",
            "73/73 [==============================] - 0s 2ms/step - loss: 0.0528 - val_loss: 0.0385\n",
            "Epoch 81/100\n",
            "73/73 [==============================] - 0s 2ms/step - loss: 0.0537 - val_loss: 0.0393\n",
            "Epoch 82/100\n",
            "73/73 [==============================] - 0s 1ms/step - loss: 0.0533 - val_loss: 0.0381\n",
            "Epoch 83/100\n",
            "73/73 [==============================] - 0s 2ms/step - loss: 0.0525 - val_loss: 0.0385\n",
            "Epoch 84/100\n",
            "73/73 [==============================] - 0s 2ms/step - loss: 0.0528 - val_loss: 0.0410\n",
            "Epoch 85/100\n",
            "73/73 [==============================] - 0s 1ms/step - loss: 0.0527 - val_loss: 0.0362\n",
            "Epoch 86/100\n",
            "73/73 [==============================] - 0s 1ms/step - loss: 0.0532 - val_loss: 0.0393\n",
            "Epoch 87/100\n",
            "73/73 [==============================] - 0s 1ms/step - loss: 0.0524 - val_loss: 0.0368\n",
            "Epoch 88/100\n",
            "73/73 [==============================] - 0s 1ms/step - loss: 0.0519 - val_loss: 0.0376\n",
            "Epoch 89/100\n",
            "73/73 [==============================] - 0s 1ms/step - loss: 0.0518 - val_loss: 0.0364\n",
            "Epoch 90/100\n",
            "73/73 [==============================] - 0s 2ms/step - loss: 0.0525 - val_loss: 0.0384\n",
            "Epoch 91/100\n",
            "73/73 [==============================] - 0s 1ms/step - loss: 0.0524 - val_loss: 0.0373\n",
            "Epoch 92/100\n",
            "73/73 [==============================] - 0s 2ms/step - loss: 0.0524 - val_loss: 0.0375\n",
            "Epoch 93/100\n",
            "73/73 [==============================] - 0s 2ms/step - loss: 0.0518 - val_loss: 0.0377\n",
            "Epoch 94/100\n",
            "73/73 [==============================] - 0s 2ms/step - loss: 0.0521 - val_loss: 0.0421\n",
            "Epoch 95/100\n",
            "73/73 [==============================] - 0s 1ms/step - loss: 0.0523 - val_loss: 0.0356\n",
            "Epoch 96/100\n",
            "73/73 [==============================] - 0s 1ms/step - loss: 0.0529 - val_loss: 0.0342\n",
            "Epoch 97/100\n",
            "73/73 [==============================] - 0s 2ms/step - loss: 0.0513 - val_loss: 0.0375\n",
            "Epoch 98/100\n",
            "73/73 [==============================] - 0s 1ms/step - loss: 0.0521 - val_loss: 0.0366\n",
            "Epoch 99/100\n",
            "73/73 [==============================] - 0s 1ms/step - loss: 0.0525 - val_loss: 0.0407\n",
            "Epoch 100/100\n",
            "73/73 [==============================] - 0s 1ms/step - loss: 0.0508 - val_loss: 0.0368\n"
          ],
          "name": "stdout"
        }
      ]
    },
    {
      "cell_type": "code",
      "metadata": {
        "id": "rULXJmzNJGr_",
        "colab_type": "code",
        "colab": {
          "base_uri": "https://localhost:8080/",
          "height": 265
        },
        "outputId": "9d78c909-5edb-490a-92cd-28828e585440"
      },
      "source": [
        "#plot error vs epoch\n",
        "plt.plot(history.history['loss'], label='train')\n",
        "plt.plot(history.history['val_loss'], label='test')\n",
        "plt.legend();"
      ],
      "execution_count": null,
      "outputs": [
        {
          "output_type": "display_data",
          "data": {
            "image/png": "[encoded data removed]",
            "text/plain": [
              "<Figure size 432x288 with 1 Axes>"
            ]
          },
          "metadata": {
            "tags": []
          }
        }
      ]
    },
    {
      "cell_type": "markdown",
      "metadata": {
        "id": "gZHjTqVeE57r",
        "colab_type": "text"
      },
      "source": [
        "## Inference"
      ]
    },
    {
      "cell_type": "code",
      "metadata": {
        "id": "acmEHwbjJKze",
        "colab_type": "code",
        "colab": {}
      },
      "source": [
        "y_pred_norm = model.predict(X_test_norm)\n",
        "y_pred = ( y_pred_norm*(max-min) ) + mean# normalization reverse"
      ],
      "execution_count": null,
      "outputs": []
    },
    {
      "cell_type": "code",
      "metadata": {
        "id": "EJ_fALhOJPHK",
        "colab_type": "code",
        "colab": {
          "base_uri": "https://localhost:8080/",
          "height": 279
        },
        "outputId": "8eaec363-b0db-42d4-e0a0-83764a05a3bf"
      },
      "source": [
        "plt.plot(np.arange(0, len(y_train)), y_train, 'g', label=\"historic\")\n",
        "plt.plot(np.arange(len(y_train), len(y_train) + len(y_test)), y_test, marker='.', label=\"real\")\n",
        "plt.plot(np.arange(len(y_train), len(y_train) + len(y_test)), y_pred, 'r', label=\"inference\")\n",
        "plt.ylabel('Demand')\n",
        "plt.xlabel('time')\n",
        "plt.legend()\n",
        "plt.show();"
      ],
      "execution_count": null,
      "outputs": [
        {
          "output_type": "display_data",
          "data": {
            "image/png": "[encoded data removed]",
            "text/plain": [
              "<Figure size 432x288 with 1 Axes>"
            ]
          },
          "metadata": {
            "tags": []
          }
        }
      ]
    },
    {
      "cell_type": "code",
      "metadata": {
        "id": "lP7-ZFidJUq1",
        "colab_type": "code",
        "colab": {
          "base_uri": "https://localhost:8080/",
          "height": 279
        },
        "outputId": "a16c7dd1-7866-47e0-8b86-a26036e5e94c"
      },
      "source": [
        "plt.plot(y_test, marker='.', label=\"real\")\n",
        "plt.plot(y_pred, 'r', label=\"prediccion\")\n",
        "plt.ylabel('Demand')\n",
        "plt.xlabel('time')\n",
        "plt.legend()\n",
        "plt.show();"
      ],
      "execution_count": null,
      "outputs": [
        {
          "output_type": "display_data",
          "data": {
            "image/png": "[encoded data removed]",
            "text/plain": [
              "<Figure size 432x288 with 1 Axes>"
            ]
          },
          "metadata": {
            "tags": []
          }
        }
      ]
    }
  ]
}